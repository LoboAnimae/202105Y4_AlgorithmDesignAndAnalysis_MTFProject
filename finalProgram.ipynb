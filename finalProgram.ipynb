{
 "cells": [
  {
   "cell_type": "markdown",
   "id": "7d7b39ee",
   "metadata": {},
   "source": [
    "# Proyecto MTF"
   ]
  },
  {
   "source": [
    "## Metadata\n",
    "    Universidad del Valle de Guatemala\n",
    "    Andrés Quan-Littow      17652\n",
    "    Análisis y Diseño de Algoritmos\n",
    "\n",
    "#### How to Run:\n",
    "        Literally just press \"Run All Cells\" in a Jupyter Notebook. If, instead, you wish to run the file directly, there is a main.py in \n",
    "        this directory"
   ],
   "cell_type": "markdown",
   "metadata": {}
  },
  {
   "cell_type": "markdown",
   "id": "a09b2acd",
   "metadata": {},
   "source": [
    "## Classes for Usage"
   ]
  },
  {
   "cell_type": "code",
   "execution_count": 1,
   "id": "30b0dc13",
   "metadata": {},
   "outputs": [],
   "source": [
    "class MTF:\n",
    "    \"\"\"Move-To-First Algorithm Object\"\"\"\n",
    "\n",
    "    def __init__(self) -> None:\n",
    "        self.reset_status()\n",
    "        self.load_requests()\n",
    "\n",
    "    def reset_status(self) -> None:\n",
    "        self.reset_configuration()\n",
    "        self.reset_output_list()\n",
    "\n",
    "    def load_requests(self, request_id=\"a\", sub_request_id=1) -> None:\n",
    "        if request_id == \"a\":\n",
    "            self.requests = [j for _ in range(0, 4) for j in range(0, 5)]\n",
    "        elif request_id == \"b\":\n",
    "            self.requests = [abs(j) for _ in range(0, 2) for j in range(4, -5, -1)]\n",
    "            for i, _ in enumerate(self.requests):\n",
    "                try:\n",
    "                    if self.requests[i - 1] == self.requests[i] and i != len(\n",
    "                        self.requests\n",
    "                    ):\n",
    "                        self.requests.pop(i - 1)\n",
    "                except:\n",
    "                    pass\n",
    "            self.requests.append(4)\n",
    "        elif request_id == \"c\":\n",
    "            self.requests = [0 for _ in range(0, 20)]\n",
    "        elif request_id == \"d\":\n",
    "            self.requests = [j for _ in range(0, 4) for j in range(4, -1, -1)]\n",
    "        elif request_id == \"e\":\n",
    "            content = 2 if sub_request_id == 1 else 3\n",
    "            self.requests = [content for _ in range(0, 20)]\n",
    "\n",
    "    def reset_configuration(self) -> None:\n",
    "        self.configuration_list = [0, 1, 2, 3, 4]\n",
    "\n",
    "    def reset_output_list(self) -> None:\n",
    "        self.output_list = []\n",
    "\n",
    "    def cost_perform(self, index):\n",
    "        cost = index + 1\n",
    "        conf = self.configuration_list.pop(index)\n",
    "        return cost, conf\n",
    "\n",
    "    def perform(self, index_program, function_number=1):\n",
    "        print(f\"For exercise {index_program}:\")\n",
    "        for i in self.requests:\n",
    "            index = self.configuration_list.index(i)\n",
    "            cost, conf = self.cost_perform(index)\n",
    "            \n",
    "            self.output_list.append(cost)\n",
    "            self.configuration_list[:0] = [conf]\n",
    "            print(\n",
    "                f\"Given {i}, the cost is {cost} and the configuration remains as {self.configuration_list}\"\n",
    "            )\n",
    "\n",
    "        print(\n",
    "            f\"Total cost for exercise {index_program} has been found to be {sum(self.output_list)}\"\n",
    "        )\n",
    "        self.reset_status()\n"
   ]
  },
  {
   "cell_type": "code",
   "execution_count": 2,
   "id": "2d48daca",
   "metadata": {},
   "outputs": [],
   "source": [
    "class IMTF:\n",
    "    def __init__(self) -> None:\n",
    "        self.reset_status()\n",
    "\n",
    "    def reset_status(self) -> None:\n",
    "        self.reset_configuration()\n",
    "        self.reset_cost()\n",
    "\n",
    "    def reset_configuration(self) -> None:\n",
    "        self.configuration = [0, 1, 2, 3, 4]\n",
    "\n",
    "    def reset_cost(self) -> None:\n",
    "        self.cost = []\n",
    "\n",
    "    def load_requests(self, request_id=\"f\"):\n",
    "        if request_id == \"f\":\n",
    "            self.requests = [0 for _ in range(0, 20)]\n",
    "        else:\n",
    "            self.requests = [abs(j) for _ in range(0, 2) for j in range(4, -5, -1)]\n",
    "\n",
    "    def perform(self, subindex):\n",
    "        print(f\"Performing {subindex} with requests {self.requests}:\")\n",
    "        for index, value in enumerate(self.requests):\n",
    "            cost = self.configuration.index(value) + 1\n",
    "            self.cost.append(cost)\n",
    "\n",
    "            for j in range(\n",
    "                index + 1,\n",
    "                len(self.requests)\n",
    "                if cost + index > len(self.requests)\n",
    "                else (cost + index),\n",
    "            ):\n",
    "                if value == self.requests[j]:\n",
    "                    self.configuration.insert(\n",
    "                        0, self.configuration.pop(self.configuration.index(value))\n",
    "                    )\n",
    "            print(\n",
    "                f\"Given {value}, the cost is {cost} and the configuration is {self.configuration}\"\n",
    "            )\n",
    "        print(\n",
    "            f\"Total cost for exercise {subindex} has been found to be {sum(self.cost)}\"\n",
    "        )"
   ]
  },
  {
   "cell_type": "markdown",
   "id": "857d2a93",
   "metadata": {},
   "source": [
    "## Program starts here"
   ]
  },
  {
   "cell_type": "code",
   "execution_count": 3,
   "id": "914e5509",
   "metadata": {},
   "outputs": [],
   "source": [
    "mtf = MTF()"
   ]
  },
  {
   "cell_type": "code",
   "execution_count": 4,
   "id": "5c11c41b",
   "metadata": {
    "scrolled": true
   },
   "outputs": [
    {
     "output_type": "stream",
     "name": "stdout",
     "text": [
      "For exercise a:\nGiven 0, the cost is 1 and the configuration remains as [0, 1, 2, 3, 4]\nGiven 1, the cost is 2 and the configuration remains as [1, 0, 2, 3, 4]\nGiven 2, the cost is 3 and the configuration remains as [2, 1, 0, 3, 4]\nGiven 3, the cost is 4 and the configuration remains as [3, 2, 1, 0, 4]\nGiven 4, the cost is 5 and the configuration remains as [4, 3, 2, 1, 0]\nGiven 0, the cost is 5 and the configuration remains as [0, 4, 3, 2, 1]\nGiven 1, the cost is 5 and the configuration remains as [1, 0, 4, 3, 2]\nGiven 2, the cost is 5 and the configuration remains as [2, 1, 0, 4, 3]\nGiven 3, the cost is 5 and the configuration remains as [3, 2, 1, 0, 4]\nGiven 4, the cost is 5 and the configuration remains as [4, 3, 2, 1, 0]\nGiven 0, the cost is 5 and the configuration remains as [0, 4, 3, 2, 1]\nGiven 1, the cost is 5 and the configuration remains as [1, 0, 4, 3, 2]\nGiven 2, the cost is 5 and the configuration remains as [2, 1, 0, 4, 3]\nGiven 3, the cost is 5 and the configuration remains as [3, 2, 1, 0, 4]\nGiven 4, the cost is 5 and the configuration remains as [4, 3, 2, 1, 0]\nGiven 0, the cost is 5 and the configuration remains as [0, 4, 3, 2, 1]\nGiven 1, the cost is 5 and the configuration remains as [1, 0, 4, 3, 2]\nGiven 2, the cost is 5 and the configuration remains as [2, 1, 0, 4, 3]\nGiven 3, the cost is 5 and the configuration remains as [3, 2, 1, 0, 4]\nGiven 4, the cost is 5 and the configuration remains as [4, 3, 2, 1, 0]\nTotal cost for exercise a has been found to be 90\n"
     ]
    }
   ],
   "source": [
    "mtf.load_requests('a')\n",
    "mtf.perform('a')"
   ]
  },
  {
   "cell_type": "code",
   "execution_count": 5,
   "id": "d32eb25b",
   "metadata": {},
   "outputs": [
    {
     "output_type": "stream",
     "name": "stdout",
     "text": [
      "For exercise b:\nGiven 4, the cost is 5 and the configuration remains as [4, 0, 1, 2, 3]\nGiven 3, the cost is 5 and the configuration remains as [3, 4, 0, 1, 2]\nGiven 2, the cost is 5 and the configuration remains as [2, 3, 4, 0, 1]\nGiven 1, the cost is 5 and the configuration remains as [1, 2, 3, 4, 0]\nGiven 0, the cost is 5 and the configuration remains as [0, 1, 2, 3, 4]\nGiven 1, the cost is 2 and the configuration remains as [1, 0, 2, 3, 4]\nGiven 2, the cost is 3 and the configuration remains as [2, 1, 0, 3, 4]\nGiven 3, the cost is 4 and the configuration remains as [3, 2, 1, 0, 4]\nGiven 4, the cost is 5 and the configuration remains as [4, 3, 2, 1, 0]\nGiven 3, the cost is 2 and the configuration remains as [3, 4, 2, 1, 0]\nGiven 2, the cost is 3 and the configuration remains as [2, 3, 4, 1, 0]\nGiven 1, the cost is 4 and the configuration remains as [1, 2, 3, 4, 0]\nGiven 0, the cost is 5 and the configuration remains as [0, 1, 2, 3, 4]\nGiven 1, the cost is 2 and the configuration remains as [1, 0, 2, 3, 4]\nGiven 2, the cost is 3 and the configuration remains as [2, 1, 0, 3, 4]\nGiven 3, the cost is 4 and the configuration remains as [3, 2, 1, 0, 4]\nGiven 4, the cost is 5 and the configuration remains as [4, 3, 2, 1, 0]\nTotal cost for exercise b has been found to be 67\n"
     ]
    }
   ],
   "source": [
    "mtf.load_requests('b')\n",
    "mtf.perform('b')"
   ]
  },
  {
   "cell_type": "code",
   "execution_count": 6,
   "id": "ef5c4cc9",
   "metadata": {},
   "outputs": [
    {
     "output_type": "stream",
     "name": "stdout",
     "text": [
      "For exercise c:\nGiven 0, the cost is 1 and the configuration remains as [0, 1, 2, 3, 4]\nGiven 0, the cost is 1 and the configuration remains as [0, 1, 2, 3, 4]\nGiven 0, the cost is 1 and the configuration remains as [0, 1, 2, 3, 4]\nGiven 0, the cost is 1 and the configuration remains as [0, 1, 2, 3, 4]\nGiven 0, the cost is 1 and the configuration remains as [0, 1, 2, 3, 4]\nGiven 0, the cost is 1 and the configuration remains as [0, 1, 2, 3, 4]\nGiven 0, the cost is 1 and the configuration remains as [0, 1, 2, 3, 4]\nGiven 0, the cost is 1 and the configuration remains as [0, 1, 2, 3, 4]\nGiven 0, the cost is 1 and the configuration remains as [0, 1, 2, 3, 4]\nGiven 0, the cost is 1 and the configuration remains as [0, 1, 2, 3, 4]\nGiven 0, the cost is 1 and the configuration remains as [0, 1, 2, 3, 4]\nGiven 0, the cost is 1 and the configuration remains as [0, 1, 2, 3, 4]\nGiven 0, the cost is 1 and the configuration remains as [0, 1, 2, 3, 4]\nGiven 0, the cost is 1 and the configuration remains as [0, 1, 2, 3, 4]\nGiven 0, the cost is 1 and the configuration remains as [0, 1, 2, 3, 4]\nGiven 0, the cost is 1 and the configuration remains as [0, 1, 2, 3, 4]\nGiven 0, the cost is 1 and the configuration remains as [0, 1, 2, 3, 4]\nGiven 0, the cost is 1 and the configuration remains as [0, 1, 2, 3, 4]\nGiven 0, the cost is 1 and the configuration remains as [0, 1, 2, 3, 4]\nGiven 0, the cost is 1 and the configuration remains as [0, 1, 2, 3, 4]\nTotal cost for exercise c has been found to be 20\n"
     ]
    }
   ],
   "source": [
    "mtf.load_requests('c')\n",
    "mtf.perform('c')"
   ]
  },
  {
   "cell_type": "code",
   "execution_count": 7,
   "id": "3fbeea6e",
   "metadata": {},
   "outputs": [
    {
     "output_type": "stream",
     "name": "stdout",
     "text": [
      "For exercise d:\nGiven 4, the cost is 5 and the configuration remains as [4, 0, 1, 2, 3]\nGiven 3, the cost is 5 and the configuration remains as [3, 4, 0, 1, 2]\nGiven 2, the cost is 5 and the configuration remains as [2, 3, 4, 0, 1]\nGiven 1, the cost is 5 and the configuration remains as [1, 2, 3, 4, 0]\nGiven 0, the cost is 5 and the configuration remains as [0, 1, 2, 3, 4]\nGiven 4, the cost is 5 and the configuration remains as [4, 0, 1, 2, 3]\nGiven 3, the cost is 5 and the configuration remains as [3, 4, 0, 1, 2]\nGiven 2, the cost is 5 and the configuration remains as [2, 3, 4, 0, 1]\nGiven 1, the cost is 5 and the configuration remains as [1, 2, 3, 4, 0]\nGiven 0, the cost is 5 and the configuration remains as [0, 1, 2, 3, 4]\nGiven 4, the cost is 5 and the configuration remains as [4, 0, 1, 2, 3]\nGiven 3, the cost is 5 and the configuration remains as [3, 4, 0, 1, 2]\nGiven 2, the cost is 5 and the configuration remains as [2, 3, 4, 0, 1]\nGiven 1, the cost is 5 and the configuration remains as [1, 2, 3, 4, 0]\nGiven 0, the cost is 5 and the configuration remains as [0, 1, 2, 3, 4]\nGiven 4, the cost is 5 and the configuration remains as [4, 0, 1, 2, 3]\nGiven 3, the cost is 5 and the configuration remains as [3, 4, 0, 1, 2]\nGiven 2, the cost is 5 and the configuration remains as [2, 3, 4, 0, 1]\nGiven 1, the cost is 5 and the configuration remains as [1, 2, 3, 4, 0]\nGiven 0, the cost is 5 and the configuration remains as [0, 1, 2, 3, 4]\nTotal cost for exercise d has been found to be 100\n"
     ]
    }
   ],
   "source": [
    "mtf.load_requests('d')\n",
    "mtf.perform('d')"
   ]
  },
  {
   "cell_type": "code",
   "execution_count": 8,
   "id": "ddc54152",
   "metadata": {},
   "outputs": [
    {
     "output_type": "stream",
     "name": "stdout",
     "text": [
      "For exercise e1:\nGiven 4, the cost is 5 and the configuration remains as [4, 0, 1, 2, 3]\nGiven 3, the cost is 5 and the configuration remains as [3, 4, 0, 1, 2]\nGiven 2, the cost is 5 and the configuration remains as [2, 3, 4, 0, 1]\nGiven 1, the cost is 5 and the configuration remains as [1, 2, 3, 4, 0]\nGiven 0, the cost is 5 and the configuration remains as [0, 1, 2, 3, 4]\nGiven 4, the cost is 5 and the configuration remains as [4, 0, 1, 2, 3]\nGiven 3, the cost is 5 and the configuration remains as [3, 4, 0, 1, 2]\nGiven 2, the cost is 5 and the configuration remains as [2, 3, 4, 0, 1]\nGiven 1, the cost is 5 and the configuration remains as [1, 2, 3, 4, 0]\nGiven 0, the cost is 5 and the configuration remains as [0, 1, 2, 3, 4]\nGiven 4, the cost is 5 and the configuration remains as [4, 0, 1, 2, 3]\nGiven 3, the cost is 5 and the configuration remains as [3, 4, 0, 1, 2]\nGiven 2, the cost is 5 and the configuration remains as [2, 3, 4, 0, 1]\nGiven 1, the cost is 5 and the configuration remains as [1, 2, 3, 4, 0]\nGiven 0, the cost is 5 and the configuration remains as [0, 1, 2, 3, 4]\nGiven 4, the cost is 5 and the configuration remains as [4, 0, 1, 2, 3]\nGiven 3, the cost is 5 and the configuration remains as [3, 4, 0, 1, 2]\nGiven 2, the cost is 5 and the configuration remains as [2, 3, 4, 0, 1]\nGiven 1, the cost is 5 and the configuration remains as [1, 2, 3, 4, 0]\nGiven 0, the cost is 5 and the configuration remains as [0, 1, 2, 3, 4]\nTotal cost for exercise e1 has been found to be 100\n"
     ]
    }
   ],
   "source": [
    "mtf.load_requests('e1')\n",
    "mtf.perform('e1')"
   ]
  },
  {
   "cell_type": "code",
   "execution_count": 9,
   "id": "2f61a4c8",
   "metadata": {},
   "outputs": [
    {
     "output_type": "stream",
     "name": "stdout",
     "text": [
      "For exercise e2:\nGiven 4, the cost is 5 and the configuration remains as [4, 0, 1, 2, 3]\nGiven 3, the cost is 5 and the configuration remains as [3, 4, 0, 1, 2]\nGiven 2, the cost is 5 and the configuration remains as [2, 3, 4, 0, 1]\nGiven 1, the cost is 5 and the configuration remains as [1, 2, 3, 4, 0]\nGiven 0, the cost is 5 and the configuration remains as [0, 1, 2, 3, 4]\nGiven 4, the cost is 5 and the configuration remains as [4, 0, 1, 2, 3]\nGiven 3, the cost is 5 and the configuration remains as [3, 4, 0, 1, 2]\nGiven 2, the cost is 5 and the configuration remains as [2, 3, 4, 0, 1]\nGiven 1, the cost is 5 and the configuration remains as [1, 2, 3, 4, 0]\nGiven 0, the cost is 5 and the configuration remains as [0, 1, 2, 3, 4]\nGiven 4, the cost is 5 and the configuration remains as [4, 0, 1, 2, 3]\nGiven 3, the cost is 5 and the configuration remains as [3, 4, 0, 1, 2]\nGiven 2, the cost is 5 and the configuration remains as [2, 3, 4, 0, 1]\nGiven 1, the cost is 5 and the configuration remains as [1, 2, 3, 4, 0]\nGiven 0, the cost is 5 and the configuration remains as [0, 1, 2, 3, 4]\nGiven 4, the cost is 5 and the configuration remains as [4, 0, 1, 2, 3]\nGiven 3, the cost is 5 and the configuration remains as [3, 4, 0, 1, 2]\nGiven 2, the cost is 5 and the configuration remains as [2, 3, 4, 0, 1]\nGiven 1, the cost is 5 and the configuration remains as [1, 2, 3, 4, 0]\nGiven 0, the cost is 5 and the configuration remains as [0, 1, 2, 3, 4]\nTotal cost for exercise e2 has been found to be 100\n"
     ]
    }
   ],
   "source": [
    "mtf.load_requests('e2')\n",
    "mtf.perform('e2')"
   ]
  },
  {
   "cell_type": "code",
   "execution_count": 10,
   "id": "f34f1913",
   "metadata": {},
   "outputs": [],
   "source": [
    "mtf = IMTF()"
   ]
  },
  {
   "cell_type": "code",
   "execution_count": 11,
   "id": "b7737785",
   "metadata": {},
   "outputs": [
    {
     "output_type": "stream",
     "name": "stdout",
     "text": [
      "Performing f1 with requests [0, 0, 0, 0, 0, 0, 0, 0, 0, 0, 0, 0, 0, 0, 0, 0, 0, 0, 0, 0]:\nGiven 0, the cost is 1 and the configuration is [0, 1, 2, 3, 4]\nGiven 0, the cost is 1 and the configuration is [0, 1, 2, 3, 4]\nGiven 0, the cost is 1 and the configuration is [0, 1, 2, 3, 4]\nGiven 0, the cost is 1 and the configuration is [0, 1, 2, 3, 4]\nGiven 0, the cost is 1 and the configuration is [0, 1, 2, 3, 4]\nGiven 0, the cost is 1 and the configuration is [0, 1, 2, 3, 4]\nGiven 0, the cost is 1 and the configuration is [0, 1, 2, 3, 4]\nGiven 0, the cost is 1 and the configuration is [0, 1, 2, 3, 4]\nGiven 0, the cost is 1 and the configuration is [0, 1, 2, 3, 4]\nGiven 0, the cost is 1 and the configuration is [0, 1, 2, 3, 4]\nGiven 0, the cost is 1 and the configuration is [0, 1, 2, 3, 4]\nGiven 0, the cost is 1 and the configuration is [0, 1, 2, 3, 4]\nGiven 0, the cost is 1 and the configuration is [0, 1, 2, 3, 4]\nGiven 0, the cost is 1 and the configuration is [0, 1, 2, 3, 4]\nGiven 0, the cost is 1 and the configuration is [0, 1, 2, 3, 4]\nGiven 0, the cost is 1 and the configuration is [0, 1, 2, 3, 4]\nGiven 0, the cost is 1 and the configuration is [0, 1, 2, 3, 4]\nGiven 0, the cost is 1 and the configuration is [0, 1, 2, 3, 4]\nGiven 0, the cost is 1 and the configuration is [0, 1, 2, 3, 4]\nGiven 0, the cost is 1 and the configuration is [0, 1, 2, 3, 4]\nTotal cost for exercise f1 has been found to be 20\n"
     ]
    }
   ],
   "source": [
    "mtf.load_requests()\n",
    "mtf.perform(\"f1\")"
   ]
  },
  {
   "cell_type": "code",
   "execution_count": 12,
   "id": "89cf0657",
   "metadata": {},
   "outputs": [
    {
     "output_type": "stream",
     "name": "stdout",
     "text": [
      "Performing f2 with requests [4, 3, 2, 1, 0, 1, 2, 3, 4, 4, 3, 2, 1, 0, 1, 2, 3, 4]:\nGiven 4, the cost is 5 and the configuration is [0, 1, 2, 3, 4]\nGiven 3, the cost is 4 and the configuration is [0, 1, 2, 3, 4]\nGiven 2, the cost is 3 and the configuration is [0, 1, 2, 3, 4]\nGiven 1, the cost is 2 and the configuration is [0, 1, 2, 3, 4]\nGiven 0, the cost is 1 and the configuration is [0, 1, 2, 3, 4]\nGiven 1, the cost is 2 and the configuration is [0, 1, 2, 3, 4]\nGiven 2, the cost is 3 and the configuration is [0, 1, 2, 3, 4]\nGiven 3, the cost is 4 and the configuration is [3, 0, 1, 2, 4]\nGiven 4, the cost is 5 and the configuration is [4, 3, 0, 1, 2]\nGiven 4, the cost is 1 and the configuration is [4, 3, 0, 1, 2]\nGiven 3, the cost is 2 and the configuration is [4, 3, 0, 1, 2]\nGiven 2, the cost is 5 and the configuration is [2, 4, 3, 0, 1]\nGiven 1, the cost is 5 and the configuration is [1, 2, 4, 3, 0]\nGiven 0, the cost is 5 and the configuration is [1, 2, 4, 3, 0]\nGiven 1, the cost is 1 and the configuration is [1, 2, 4, 3, 0]\nGiven 2, the cost is 2 and the configuration is [1, 2, 4, 3, 0]\nGiven 3, the cost is 4 and the configuration is [1, 2, 4, 3, 0]\nGiven 4, the cost is 3 and the configuration is [1, 2, 4, 3, 0]\nTotal cost for exercise f2 has been found to be 77\n"
     ]
    }
   ],
   "source": [
    "mtf.load_requests(\"z\")\n",
    "mtf.perform(\"f2\")"
   ]
  },
  {
   "cell_type": "markdown",
   "id": "48374e36",
   "metadata": {},
   "source": [
    "## Question G"
   ]
  },
  {
   "source": [
    "According to Wikipedia, an online algorithm can be thought of as what an interpreter for its own input. It can be thought of as what Python does, vs any kind of language that uses a compiler, since Python's code is not run until the program reaches a certain line. This contrasts against how a compiled program runs, since all code must be read and COMPILED before run-time. This means that the algorithm only has access to whatever happens to be pointed at, at any given point in time by the algorithm. Before and after do not exist, only the present value. As per [this article](https://en.wikipedia.org/wiki/Online_algorithm \"Online Problems\")\n",
    "\n",
    "    Python is an interpreted language. If it were an algorithm, it would be online.\n",
    "    \n",
    "On the other side, an offline algorithm is the exact opposite. An offline algorithm is given ALL the data from the start, which means that the data must be available from BEFORE the algorithm starts. \n",
    "\n",
    "    C/C++ and other compiled languages need all the information about memory usage to work from the beginning. \n",
    "    If they were algorithms, they would be offline.\n",
    "\n",
    "In certain cases, an online algorithm would be better, in others, not so much. By definition, the MTF algorithm is online, and the IMTF algorithm is offline. This is because MTF grabs a certain value, no matter what came before, or what comes after, and calculates the cost of such. On the other side, IMTF requires knowledge of what comes after the index that we're currently working on. This means that the data MUST be known to the algorithm, even if it is not working on it at the moment it is processing a different value. In the case of MTF becoming an offline algorithm, it would probably become IMTF, and viceversa. \n",
    "\n",
    "\n",
    "\n",
    "#### Insertion Sort\n",
    "Let us think of the Insertion Sort algorithm. This algorithm is a stable algorithm that can sort a list as it receives it, and it sorts by only seeing one item at a time. This algorithm is much less efficient on larger lists, but it has proven to be easy to implement. This can be seen in [this article](https://en.wikipedia.org/wiki/Insertion_sort \"Insertion Sort\"). On the other side, an offline algorithm requires the list to be ever-present. In such cases, the list can be seen in a divide-and-conquer kind of sense, such as in a Quicksort algorithm. This algorithm requires to know different sections of the list to work. \n",
    "\n",
    "Term | URL\n",
    ":--- | ---:\n",
    "Online Problems | https://en.wikipedia.org/wiki/Online_algorithm\n",
    "Insertion Sort | https://en.wikipedia.org/wiki/Insertion_sort\n"
   ],
   "cell_type": "markdown",
   "metadata": {}
  }
 ],
 "metadata": {
  "kernelspec": {
   "name": "python386jvsc74a57bd0916dbcbb3f70747c44a77c7bcd40155683ae19c65e1c03b4aa3499c5328201f1",
   "display_name": "Python 3.8.6 64-bit"
  },
  "language_info": {
   "codemirror_mode": {
    "name": "ipython",
    "version": 3
   },
   "file_extension": ".py",
   "mimetype": "text/x-python",
   "name": "python",
   "nbconvert_exporter": "python",
   "pygments_lexer": "ipython3",
   "version": "3.8.6"
  },
  "metadata": {
   "interpreter": {
    "hash": "916dbcbb3f70747c44a77c7bcd40155683ae19c65e1c03b4aa3499c5328201f1"
   }
  }
 },
 "nbformat": 4,
 "nbformat_minor": 5
}